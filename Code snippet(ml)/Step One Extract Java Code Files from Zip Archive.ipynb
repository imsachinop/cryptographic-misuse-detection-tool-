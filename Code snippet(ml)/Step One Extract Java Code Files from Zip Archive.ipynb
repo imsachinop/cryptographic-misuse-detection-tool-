{
 "cells": [
  {
   "cell_type": "code",
   "execution_count": null,
   "id": "e70305ce-c19c-43e4-87d7-7f2b6172cb13",
   "metadata": {},
   "outputs": [],
   "source": [
    "import zipfile\n",
    "import os\n",
    "\n",
    "# Path to the zip file containing Java code snippets\n",
    "zip_file_path = 'research/crypto_misuse_code_snippets.zip'\n",
    "extracted_dir = 'extracted_java_files/'\n",
    "\n",
    "# Extract zip file contents\n",
    "with zipfile.ZipFile(zip_file_path, 'r') as zip_ref:\n",
    "    zip_ref.extractall(extracted_dir)\n",
    "\n",
    "# List extracted files\n",
    "java_files = []\n",
    "for root, dirs, files in os.walk(extracted_dir):\n",
    "    for file in files:\n",
    "        if file.endswith('.java'):\n",
    "            java_files.append(os.path.join(root, file))\n",
    "\n",
    "print(f\"Found {len(java_files)} Java files.\")"
   ]
  }
 ],
 "metadata": {
  "kernelspec": {
   "display_name": "Python 3 (ipykernel)",
   "language": "python",
   "name": "python3"
  },
  "language_info": {
   "codemirror_mode": {
    "name": "ipython",
    "version": 3
   },
   "file_extension": ".py",
   "mimetype": "text/x-python",
   "name": "python",
   "nbconvert_exporter": "python",
   "pygments_lexer": "ipython3",
   "version": "3.11.7"
  }
 },
 "nbformat": 4,
 "nbformat_minor": 5
}
