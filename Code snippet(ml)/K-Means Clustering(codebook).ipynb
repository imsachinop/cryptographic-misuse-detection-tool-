{
 "cells": [
  {
   "cell_type": "code",
   "execution_count": null,
   "id": "411c1239-9b4f-4735-be3e-83ef9f5e72de",
   "metadata": {},
   "outputs": [],
   "source": [
    "from sklearn.cluster import KMeans\n",
    "import pandas as pd\n",
    "import matplotlib.pyplot as plt\n",
    "from sklearn.preprocessing import StandardScaler\n",
    "\n",
    "# Assume `X` contains the preprocessed cryptographic features for clustering\n",
    "# Use StandardScaler to normalize features for K-Means\n",
    "scaler = StandardScaler()\n",
    "X_scaled = scaler.fit_transform(X)\n",
    "\n",
    "# Define the number of clusters (codebook size)\n",
    "n_clusters = 5  # Adjust based on your analysis and project requirements\n",
    "\n",
    "# Apply K-Means clustering\n",
    "kmeans = KMeans(n_clusters=n_clusters, random_state=42)\n",
    "X['cluster'] = kmeans.fit_predict(X_scaled)\n",
    "\n",
    "# Create a DataFrame for the codebook\n",
    "codebook = pd.DataFrame(kmeans.cluster_centers_, columns=X.columns[:-1])\n",
    "codebook['cluster_id'] = range(n_clusters)\n",
    "\n",
    "print(\"Codebook:\")\n",
    "print(codebook)\n"
   ]
  },
  {
   "cell_type": "code",
   "execution_count": null,
   "id": "dc7d13d9-e880-4931-8034-ea82ed857b26",
   "metadata": {},
   "outputs": [],
   "source": [
    "from sklearn.decomposition import PCA\n",
    "\n",
    "# Use PCA to reduce dimensions to 2D for visualization\n",
    "pca = PCA(n_components=2)\n",
    "X_pca = pca.fit_transform(X_scaled)\n",
    "X['pca_1'] = X_pca[:, 0]\n",
    "X['pca_2'] = X_pca[:, 1]\n",
    "\n",
    "# Plot the clusters\n",
    "plt.figure(figsize=(8, 6))\n",
    "plt.scatter(X['pca_1'], X['pca_2'], c=X['cluster'], cmap='viridis', s=50, alpha=0.7)\n",
    "plt.colorbar(label='Cluster')\n",
    "plt.xlabel('PCA Component 1')\n",
    "plt.ylabel('PCA Component 2')\n",
    "plt.title(f'K-Means Clustering with {n_clusters} Groups of Interest')\n",
    "plt.show()\n"
   ]
  }
 ],
 "metadata": {
  "kernelspec": {
   "display_name": "Python 3 (ipykernel)",
   "language": "python",
   "name": "python3"
  },
  "language_info": {
   "codemirror_mode": {
    "name": "ipython",
    "version": 3
   },
   "file_extension": ".py",
   "mimetype": "text/x-python",
   "name": "python",
   "nbconvert_exporter": "python",
   "pygments_lexer": "ipython3",
   "version": "3.11.7"
  }
 },
 "nbformat": 4,
 "nbformat_minor": 5
}
