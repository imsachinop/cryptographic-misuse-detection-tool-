{
 "cells": [
  {
   "cell_type": "code",
   "execution_count": null,
   "id": "a1ba0f71-4caa-40af-85cf-d629266872c8",
   "metadata": {},
   "outputs": [],
   "source": [
    "import javalang\n",
    "import pandas as pd\n",
    "\n",
    "# Function to extract features from a single Java file\n",
    "def extract_features_from_file(file_path):\n",
    "    features = []\n",
    "    with open(file_path, 'r') as file:\n",
    "        java_code = file.read()\n",
    "    \n",
    "    try:\n",
    "        tree = javalang.parse.parse(java_code)\n",
    "    except Exception as e:\n",
    "        print(f\"Failed to parse {file_path}: {e}\")\n",
    "        return []\n",
    "    \n",
    "    for path, node in tree:\n",
    "        feature = {\n",
    "            'method': None,\n",
    "            'algorithm': None,\n",
    "            'provider': None,\n",
    "            'exception_handled': None,\n",
    "            'file': file_path\n",
    "        }\n",
    "        \n",
    "        if isinstance(node, javalang.tree.MethodInvocation):\n",
    "            if node.member == 'getInstance':\n",
    "                feature['method'] = 'getInstance'\n",
    "                if node.arguments:\n",
    "                    feature['algorithm'] = node.arguments[0].value\n",
    "                    if len(node.arguments) > 1:\n",
    "                        feature['provider'] = node.arguments[1].value\n",
    "            elif node.member in ['update', 'digest']:\n",
    "                feature['method'] = node.member\n",
    "        \n",
    "        if isinstance(node, javalang.tree.CatchClause):\n",
    "            exception_types = [str(t).split('.')[-1] for t in node.parameter.types]\n",
    "            if 'NoSuchAlgorithmException' in exception_types:\n",
    "                feature['exception_handled'] = 'NoSuchAlgorithmException'\n",
    "            elif 'NoSuchProviderException' in exception_types:\n",
    "                feature['exception_handled'] = 'NoSuchProviderException'\n",
    "        \n",
    "        if any(feature.values()):\n",
    "            features.append(feature)\n",
    "    \n",
    "    return features\n",
    "\n",
    "# Extract features from all Java files\n",
    "all_features = []\n",
    "for java_file in java_files:\n",
    "    features = extract_features_from_file(java_file)\n",
    "    all_features.extend(features)\n",
    "\n",
    "# Convert to DataFrame\n",
    "df_features = pd.DataFrame(all_features)\n",
    "print(df_features.head())\n"
   ]
  }
 ],
 "metadata": {
  "kernelspec": {
   "display_name": "Python 3 (ipykernel)",
   "language": "python",
   "name": "python3"
  },
  "language_info": {
   "codemirror_mode": {
    "name": "ipython",
    "version": 3
   },
   "file_extension": ".py",
   "mimetype": "text/x-python",
   "name": "python",
   "nbconvert_exporter": "python",
   "pygments_lexer": "ipython3",
   "version": "3.11.7"
  }
 },
 "nbformat": 4,
 "nbformat_minor": 5
}
