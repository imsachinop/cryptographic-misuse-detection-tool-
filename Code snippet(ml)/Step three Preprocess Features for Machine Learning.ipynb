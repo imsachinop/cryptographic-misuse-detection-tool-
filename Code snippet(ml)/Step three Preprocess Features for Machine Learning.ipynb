{
 "cells": [
  {
   "cell_type": "code",
   "execution_count": null,
   "id": "0e389226-0024-4ffd-ba2d-6f47a3547e3b",
   "metadata": {},
   "outputs": [],
   "source": [
    "from sklearn.preprocessing import LabelEncoder\n",
    "\n",
    "# Encode categorical columns\n",
    "le_algorithm = LabelEncoder()\n",
    "le_method = LabelEncoder()\n",
    "le_provider = LabelEncoder()\n",
    "\n",
    "df_features['algorithm_encoded'] = le_algorithm.fit_transform(df_features['algorithm'].fillna('None'))\n",
    "df_features['method_encoded'] = le_method.fit_transform(df_features['method'].fillna('None'))\n",
    "df_features['provider_encoded'] = le_provider.fit_transform(df_features['provider'].fillna('None'))\n",
    "\n",
    "# Select relevant features\n",
    "X = df_features[['algorithm_encoded', 'method_encoded', 'provider_encoded']]\n",
    "y = df_features['label'] = df_features['file'].apply(lambda x: 1 if 'misuse' in x else 0)  # Example labeling\n"
   ]
  }
 ],
 "metadata": {
  "kernelspec": {
   "display_name": "Python 3 (ipykernel)",
   "language": "python",
   "name": "python3"
  },
  "language_info": {
   "codemirror_mode": {
    "name": "ipython",
    "version": 3
   },
   "file_extension": ".py",
   "mimetype": "text/x-python",
   "name": "python",
   "nbconvert_exporter": "python",
   "pygments_lexer": "ipython3",
   "version": "3.11.7"
  }
 },
 "nbformat": 4,
 "nbformat_minor": 5
}
